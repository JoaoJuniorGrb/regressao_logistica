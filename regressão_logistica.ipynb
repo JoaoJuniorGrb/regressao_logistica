{
  "nbformat": 4,
  "nbformat_minor": 0,
  "metadata": {
    "colab": {
      "provenance": [],
      "authorship_tag": "ABX9TyOfU74CjtEZ/UI92aN5QPSn",
      "include_colab_link": true
    },
    "kernelspec": {
      "name": "python3",
      "display_name": "Python 3"
    },
    "language_info": {
      "name": "python"
    }
  },
  "cells": [
    {
      "cell_type": "markdown",
      "metadata": {
        "id": "view-in-github",
        "colab_type": "text"
      },
      "source": [
        "<a href=\"https://colab.research.google.com/github/JoaoJuniorGrb/regressao_logistica/blob/main/regress%C3%A3o_logistica.ipynb\" target=\"_parent\"><img src=\"https://colab.research.google.com/assets/colab-badge.svg\" alt=\"Open In Colab\"/></a>"
      ]
    },
    {
      "cell_type": "code",
      "execution_count": 4,
      "metadata": {
        "id": "LUnuK33T62jo"
      },
      "outputs": [],
      "source": [
        "import pandas as pd  # Biblioteca para manipulação de dados em DataFrames\n",
        "from sklearn.preprocessing import LabelEncoder  # Para codificar variáveis categóricas em números\n",
        "from sklearn.preprocessing import StandardScaler  # Para normalizar os dados\n",
        "from sklearn.model_selection import train_test_split  # Para dividir os dados em treino e teste\n",
        "from sklearn.linear_model import LogisticRegression  # Modelo de Regressão Logística\n",
        "from sklearn.metrics import confusion_matrix, accuracy_score  # Métricas de avaliação do modelo\n",
        "\n",
        "# Carregar a base de dados a partir de um arquivo CSV\n",
        "base = pd.read_csv('census.csv')\n",
        "\n",
        "# Separar as variáveis independentes (X) e dependente (y)\n",
        "x = base.iloc[:, 0:14].values  # Todas as colunas exceto a última (variáveis independentes)\n",
        "y = base.iloc[:, 14].values    # Última coluna (variável dependente)\n",
        "\n",
        "# Codificação de rótulos (transforma variáveis categóricas em números inteiros)\n",
        "label_encoder = LabelEncoder()\n",
        "\n",
        "# Aplicando o LabelEncoder nas colunas categóricas de X\n",
        "x[:, 1] = label_encoder.fit_transform(x[:, 1])  # Exemplo: 'Masculino' -> 0, 'Feminino' -> 1\n",
        "x[:, 3] = label_encoder.fit_transform(x[:, 3])\n",
        "x[:, 5] = label_encoder.fit_transform(x[:, 5])\n",
        "x[:, 6] = label_encoder.fit_transform(x[:, 6])\n",
        "x[:, 7] = label_encoder.fit_transform(x[:, 7])\n",
        "x[:, 8] = label_encoder.fit_transform(x[:, 8])\n",
        "x[:, 9] = label_encoder.fit_transform(x[:, 9])\n",
        "x[:, 13] = label_encoder.fit_transform(x[:, 13])\n",
        "\n",
        "# Normalização das variáveis independentes para escalar os dados\n",
        "scaler_x = StandardScaler()\n",
        "x = scaler_x.fit_transform(x)  # Os valores de X são ajustados para uma média de 0 e desvio padrão de 1\n",
        "\n",
        "# Divisão da base de dados em conjunto de treino e teste\n",
        "x_treino, x_teste, y_treino, y_teste = train_test_split(x, y, test_size=0.3)  # 30% dos dados para teste\n",
        "\n",
        "# Criação do modelo de Regressão Logística\n",
        "classificador = LogisticRegression(max_iter=10000)  # Aumenta o número máximo de iterações para evitar problemas de convergência\n",
        "classificador.fit(x_treino, y_treino)  # Treinamento do modelo com os dados de treino\n",
        "\n",
        "# Realização de previsões no conjunto de teste\n",
        "previsoes = classificador.predict(x_teste)"
      ]
    },
    {
      "cell_type": "code",
      "source": [
        "# Importação das bibliotecas necessárias\n",
        "import pandas as pd  # Para manipulação de dados em DataFrames\n",
        "from sklearn.preprocessing import LabelEncoder  # Para codificar variáveis categóricas\n",
        "from sklearn.preprocessing import StandardScaler  # Para normalizar os dados\n",
        "from sklearn.model_selection import train_test_split  # Para dividir os dados em treino e teste\n",
        "from sklearn.linear_model import LogisticRegression  # Modelo de Regressão Logística\n",
        "from sklearn.metrics import confusion_matrix, accuracy_score  # Métricas de avaliação do modelo\n",
        "\n",
        "# ================================\n",
        "# 1. Carregamento da base de dados\n",
        "# ================================\n",
        "# Leitura do arquivo CSV contendo os dados\n",
        "base = pd.read_csv('census.csv')  # Substitua pelo caminho correto do arquivo se necessário\n",
        "\n",
        "# Separação das variáveis independentes (X) e da variável dependente (y)\n",
        "x = base.iloc[:, 0:14].values  # Seleção das colunas de 0 a 13 (variáveis independentes)\n",
        "y = base.iloc[:, 14].values    # Seleção da última coluna (variável dependente)\n",
        "\n",
        "# ================================\n",
        "# 2. Pré-processamento dos dados\n",
        "# ================================\n",
        "# 2.1. Codificação de variáveis categóricas\n",
        "# Muitas colunas em X contêm valores categóricos (ex.: 'Masculino', 'Feminino', 'Sim', 'Não', etc.)\n",
        "# O LabelEncoder converte essas categorias em números inteiros\n",
        "label_encoder = LabelEncoder()\n",
        "\n",
        "# Aplicação do LabelEncoder nas colunas categóricas\n",
        "# (substitua os índices conforme as colunas categóricas específicas do seu dataset)\n",
        "colunas_categoricas = [1, 3, 5, 6, 7, 8, 9, 13]\n",
        "for coluna in colunas_categoricas:\n",
        "    x[:, coluna] = label_encoder.fit_transform(x[:, coluna])\n",
        "\n",
        "# 2.2. Escalonamento das variáveis independentes\n",
        "# A normalização padroniza os dados para que tenham média 0 e desvio padrão 1\n",
        "# Isso é importante para algoritmos que utilizam distâncias ou gradientes\n",
        "scaler_x = StandardScaler()\n",
        "x = scaler_x.fit_transform(x)\n",
        "\n",
        "# ================================\n",
        "# 3. Divisão da base de dados\n",
        "# ================================\n",
        "# Divisão dos dados em conjuntos de treino e teste\n",
        "# 70% dos dados para treino e 30% para teste\n",
        "x_treino, x_teste, y_treino, y_teste = train_test_split(x, y, test_size=0.3, random_state=42)\n",
        "\n",
        "# ================================\n",
        "# 4. Criação e treinamento do modelo\n",
        "# ================================\n",
        "# Instância do modelo de Regressão Logística\n",
        "# O parâmetro `max_iter` é configurado para evitar problemas de convergência durante o treinamento\n",
        "classificador = LogisticRegression(max_iter=10000)\n",
        "\n",
        "# Treinamento do modelo com os dados de treino\n",
        "classificador.fit(x_treino, y_treino)\n",
        "\n",
        "# ================================\n",
        "# 5. Realização de previsões\n",
        "# ================================\n",
        "# Previsão dos valores da variável dependente com base nos dados de teste\n",
        "previsoes = classificador.predict(x_teste)\n",
        "\n",
        "# ================================\n",
        "# 6. Avaliação do modelo\n",
        "# ================================\n",
        "# Cálculo da matriz de confusão\n",
        "# A matriz de confusão mostra a comparação entre os rótulos reais e previstos\n",
        "matriz_confusao = confusion_matrix(y_teste, previsoes)\n",
        "\n",
        "# Cálculo da acurácia\n",
        "# A acurácia mede a proporção de previsões corretas\n",
        "acuracia = accuracy_score(y_teste, previsoes)\n",
        "\n",
        "# Exibição dos resultados\n",
        "print(\"Matriz de Confusão:\")\n",
        "print(matriz_confusao)\n",
        "print(\"\\nAcurácia do Modelo:\")\n",
        "print(f\"{acuracia * 100:.2f}%\")"
      ],
      "metadata": {
        "colab": {
          "base_uri": "https://localhost:8080/"
        },
        "id": "QsJbRgfrArDE",
        "outputId": "544d0021-4da7-4b69-8dc5-09e2b4461ffc"
      },
      "execution_count": 5,
      "outputs": [
        {
          "output_type": "stream",
          "name": "stdout",
          "text": [
            "Matriz de Confusão:\n",
            "[[7021  434]\n",
            " [1267 1047]]\n",
            "\n",
            "Acurácia do Modelo:\n",
            "82.59%\n"
          ]
        }
      ]
    }
  ]
}